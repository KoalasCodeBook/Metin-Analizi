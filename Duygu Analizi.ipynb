{
 "cells": [
  {
   "cell_type": "code",
   "execution_count": null,
   "metadata": {},
   "outputs": [],
   "source": [
    "#pip install textblob\n",
    "#pip install googletrans\n",
    "#pip install deep-translator\n",
    "\n"
   ]
  },
  {
   "cell_type": "code",
   "execution_count": 4,
   "metadata": {},
   "outputs": [
    {
     "name": "stdout",
     "output_type": "stream",
     "text": [
      "Orijinal Metin: Bu filmi gerçekten çok beğendim, harikaydı!\n",
      "Çevrilmiş Metin: I really liked this movie, it was great!\n",
      "Duygu Puanı: 0.8\n",
      "Duygu Yoğunluğu: 0.775\n",
      "Sentiment(polarity=0.8, subjectivity=0.775)\n"
     ]
    }
   ],
   "source": [
    "from textblob import TextBlob\n",
    "from textblob import Word\n",
    "from deep_translator import GoogleTranslator\n",
    "\n",
    "\n",
    "# Türkçe metin\n",
    "text = \"Bu filmi gerçekten çok beğendim, harikaydı!\"\n",
    "       \n",
    "# Türkçe metni İngilizceye çevir\n",
    "translated_text = GoogleTranslator(source='tr', target='en').translate(text)\n",
    "\n",
    "# Çevirilen metni TextBlob ile analiz et     \n",
    "blob = TextBlob(translated_text)\n",
    "\n",
    "# Duygu analizi\n",
    "print(f\"Orijinal Metin: {text}\")\n",
    "print(f\"Çevrilmiş Metin: {translated_text}\")\n",
    "print(f\"Duygu Puanı: {blob.sentiment.polarity}\")  # -1 ile 1 arasında bir değer\n",
    "print(f\"Duygu Yoğunluğu: {blob.sentiment.subjectivity}\")  # 0 ile 1 arasında bir değer\n",
    "\n",
    "print(blob.sentiment)"
   ]
  },
  {
   "attachments": {
    "image.png": {
     "image/png": "[encoded data removed]"
    }
   },
   "cell_type": "markdown",
   "metadata": {},
   "source": [
    "TextBlob varsayılan olarak İngilizce duygu analizi desteklemekte ve dil çevirisi olmadan Türkçe duygu analizi yapamamaktadır. Ancak TextBlob’a Türkçe dil desteği eklemek için bazı dil kaynaklarını manuel olarak ekleyerek bu durumu aşabiliriz. Özellikle Türkçe bir duygu sözlüğü kullanarak veya TextBlob için farklı dillerde duygu analizini destekleyen ek kütüphanelerle çalışarak doğrudan Türkçe metinler üzerinde analiz yapabilirsiniz.\n",
    "\n",
    "Aşağıda, çevirisiz Türkçe duygu analizi için textblob-fr gibi ek paketlerin ve Türkçe duygu sözlüklerinin kullanımını gösteren örnek bir yöntem bulunmaktadır:\n",
    "\n",
    "1. TextBlob + Ek Türkçe Duygu Sözlüğü Kullanımı\n",
    "Bu yöntemde, Türkçe metinler için bir duygu sözlüğü hazırlayarak TextBlob duygu analizi işlevini genişletiyoruz. Bunun için, Türkçe kelimeleri ve duygu puanlarını içeren bir CSV dosyası kullanabiliriz. Örneğin, olumlu kelimeler +1, olumsuz kelimeler -1 gibi puanlanabilir.\n",
    "\n",
    "Örnek CSV Dosyası (turkish_sentiment_lexicon.csv)\n",
    "\n",
    "![image.png](attachment:image.png)\n",
    "\n"
   ]
  },
  {
   "cell_type": "code",
   "execution_count": null,
   "metadata": {},
   "outputs": [],
   "source": [
    "text = \"Bu filmi gerçekten çok beğendim, harikaydı!\"\n",
    "blob = TextBlob(text)\n",
    "words = blob.split(\" \")\n",
    "print(words)"
   ]
  },
  {
   "cell_type": "code",
   "execution_count": 7,
   "metadata": {},
   "outputs": [
    {
     "name": "stdout",
     "output_type": "stream",
     "text": [
      "Metin: Bu film gerçekten çok harikaydı, mükemmel bir deneyim oldu!\n",
      "Duygu Puanı: 1\n"
     ]
    }
   ],
   "source": [
    "import pandas as pd\n",
    "from textblob import TextBlob\n",
    "\n",
    "# Türkçe duygu sözlüğünü yükleyin\n",
    "sentiment_lexicon = pd.read_csv(\"turkish_sentiment_lexicon.csv\")\n",
    "\n",
    "# TextBlob'u genişletmek için bir yardımcı fonksiyon\n",
    "def analyze_sentiment(text):\n",
    "    blob = TextBlob(text)\n",
    "    polarity = 0\n",
    "    words = blob.split(\" \")\n",
    "    \n",
    "    for word in words:\n",
    "        match = sentiment_lexicon[sentiment_lexicon['Kelime'] == word]\n",
    "        if not match.empty:\n",
    "            polarity += match['Puan'].values[0]\n",
    "    \n",
    "    return polarity\n",
    "\n",
    "# Test metni\n",
    "text = \"Bu film gerçekten çok harikaydı, mükemmel bir deneyim oldu!\"\n",
    "\n",
    "# Duygu analizi\n",
    "print(f\"Metin: {text}\")\n",
    "print(f\"Duygu Puanı: {analyze_sentiment(text)}\")  # Pozitif değer olumlu, negatif değer olumsuz\n"
   ]
  },
  {
   "cell_type": "markdown",
   "metadata": {},
   "source": [
    "Açıklama \n",
    "\n",
    "Kelime sütununda duygu analizi yaparken kontrol edilecek Türkçe kelimeler bulunur.\n",
    "Puan sütununda her kelimenin duygu puanı yer alır:\n",
    "1 gibi pozitif değerler, kelimenin olumlu duygu içerdiğini ifade eder.\n",
    "-1 gibi negatif değerler, kelimenin olumsuz duygu içerdiğini gösterir.\n",
    "Bu yapı sayesinde Türkçe metinler üzerinde TextBlob kullanarak hızlı bir şekilde temel duygu analizleri yapabilirsiniz. İhtiyaca göre daha fazla olumlu veya olumsuz kelime ekleyerek sözlüğü genişletebilirsiniz."
   ]
  }
 ],
 "metadata": {
  "kernelspec": {
   "display_name": ".venv",
   "language": "python",
   "name": "python3"
  },
  "language_info": {
   "codemirror_mode": {
    "name": "ipython",
    "version": 3
   },
   "file_extension": ".py",
   "mimetype": "text/x-python",
   "name": "python",
   "nbconvert_exporter": "python",
   "pygments_lexer": "ipython3",
   "version": "3.12.6"
  }
 },
 "nbformat": 4,
 "nbformat_minor": 2
}
