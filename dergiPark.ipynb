{
 "cells": [
  {
   "cell_type": "code",
   "execution_count": 1,
   "metadata": {},
   "outputs": [],
   "source": [
    "import requests\n",
    "from bs4 import BeautifulSoup\n",
    "\n",
    "target = []\n",
    "container = []\n",
    "page = 1\n",
    "\n",
    "while(True):\n",
    "    link = f\"https://dergipark.org.tr/tr/search/{page}?aggs%5BarticleAuthors.institutionObj.topIz%5D%5B13%5D=RN99GF83GH&section=articles&q=s%C3%BCrd%C3%BCr%C3%BClebilirlik\"\n",
    "    response = requests.get(link)\n",
    "    page += 1\n",
    "\n",
    "    if response.status_code == 200:\n",
    "        soup = BeautifulSoup(response.text, 'html.parser')\n",
    "        \n",
    "        if (len(soup.find_all(class_=\"article-cards\")) == 0):                        \n",
    "            break\n",
    "        else:\n",
    "            elements = soup.find_all(class_=\"card article-card dp-card-outline\")\n",
    "\n",
    "            for element in elements:\n",
    "                target.append(element)\n",
    "\n",
    "                title = element.find(class_=\"card-title\").find(\"a\")\n",
    "                container.append([title.get_text(strip=True),title['href']])\n",
    "            \n",
    "        \n",
    "    else:\n",
    "        print(f\"Failed to retrieve the page. Status code: {response.status_code}\")\n"
   ]
  },
  {
   "cell_type": "markdown",
   "metadata": {},
   "source": []
  },
  {
   "cell_type": "code",
   "execution_count": 18,
   "metadata": {},
   "outputs": [
    {
     "name": "stdout",
     "output_type": "stream",
     "text": [
      "1: Selçuk kervansarayları , XIII üncü asırda, Türkiye'nin iktisadi vaziyetini, memlekette cereyan eden ticari faaliyetleri ve devletin bu hususta takip etmiş olduğu siyaseti anlayabilmek için üzerinde durulması gereken çok dikkate şayan bir mevzudur. Selçuk tarihinin hemen her meselesi ve her mevzuu gibi bunlar da, kitabeleri ve mimari ehemmiyetleri hakkındaki tasviri mahiyette mahdut bazı yazılar istisna edilecek olursa, henüz tarihi bakımdan ciddi hiçbir tetkike tâbi tutulmamıştır, ki bunları n mühim sayılacak olanları yeri geldikçe burada zikredilecektir. Uzaktan bakılınca bir kale, içlerine girildiği zaman bir yolun bir konak menzilinde kervan kafilelerinin her türlü ihtiyaçlarını karşılayacak bir teşkilâta malik olan bu binalar ne kemiyet ve ne de keyfiyet bakımından İslâm dünyasının başka bölgelerinde emsaline rastlanamayacak bir kıymet taşırlar.\n",
      "\n",
      "1: Anadolu’da Bizans, Ermeni ve Antik sanatla karşılaşan Sclçuk’- lular yaratıcı güçlerinin yamsıra, birlikte getirdikleri İslam sanatı ve Orta Asya gelenekleriyle, sanatlarında orijinal bir sentez sundular.Bu sentezde antik ve Bizans devri malzemesinin enteresan sunuluşu yamsıra Orta Asya göçebe sanatı ve Anadolu Selçuk öncesi İslam sanatı unsurlarının ağır bastığı dikkati çeker.Selçukluların Anadolu’da bazilikal karaktere sahip bir grup cami haricinde, plan bakımından diğer camilerde, medrese, türbe, kervansaray ve saray yapılarında, İran Selçuk, Orta Asya, Abbasi ve Emevi devri eserlerinden ilham almış oldukları görülür.\n",
      "\n",
      "1: Burada kısaca Herzfeld'in 9. asır Abbasi Samarra alçılarında I. ve II. grup olarak ayırdığı stilize bitkisel motifli alçıların Iran yoluyla Anadolu'ya varan akislerini belirtmek istiyorum. Bilindiği gibi Part'lardan beri İran'da gelişen alçı işçiliği Samarra etkisiyle yeni bir hüviyet kazanmıştır. Çok üzerinde durulan I. Samarra alçı grubu eğri kesim tekniği stilinin görüldüğü, stilize yarım ve tam palmetlerin, helezonların, düğme gibi noktaların işlendiği Avrasya hayvan stilinden esinlenen, kalıplama tekniği ile işlenen örneklerdir. Bu stilde işlenmiş alçı, ahşap, taş malzemenin İslam sanatında çok geniş bir alanda şaşılacak benzerlikle birkaç asır kendini sürdürmesi Ettinghausen tarafından ilginç örneklerle açıklanmıştır. Mısır'da (876-79) Tolunoğlu camii alçı ve ahşap işçiliği örnekleri, 1003 tarihinden Kahire'de Fatımi devri El Hakim camii ahşap kirişleri bilinen en erken tarihli paralel örnekler olmaktadır. El Ezher camii harim alçılarında da Samarra I grubundan etkilenen çeşitli derin oyma alçılar tipiktir(970-71). İran'da bu stilin ilk örneklerinden biri Isfahan Mescidi Cuma'sının 072-92 arasına tarihlenen kirişleri üzerinde görülür ve 14. asra kadar alçı, ahşap örneklerle devam eder.\n",
      "\n",
      "1: Van’da konut mimarisi XX. yüzyılın başlarına kadar, Eski Van Şehri’nde gelişme göstermiştir. Bu dönemin evleri bir ve iki katlı, düz toprak damlı ve kerpiç malzeme kullanılarak bitişik nizamda inşa edilmiştir. 1900 yılından sonra günümüz Van Şehri’nde inşa edilen evlere gruplar halinde arazinin genişliğinden dolayı ayrık nizamda yeni evler ilave edilmiştir. 1970 yılından itibaren günümüz Van şehrinde hızla değişen sosyal hayat şartları halkın betonarme evlere özentisi ile geleneksel evler terk edilerek birer birer yıkılmıştır. Şehrin Koruma İmar Planı’nın hazırlanmayışı, tespit ve tescil yapılmaması yıkılma sürecini hızlandırmıştır. Çalışma kapsamında değerlendirdiğimiz Selahattin Selçuk Evi, mimari özellikleri bakımından, iki katlı iç sofalı, ikiyüzlü, ikiden fazla odalı, köşksüz plan içerisinde yer almaktadır. XIX. yüzyılın sonlarında ya da XX. yüzyılın ilk çeyreğinde inşa edildiği düşünülen ev, 2011 yılına kadar kullanılmıştır. 2011 yılında meydana gelen depremde evin üst katının batı duvarı tamamen yıkılmış, iç bölümlerde ise bazı ciddi strüktürel sorunlar oluşmuştur. Van evleri içerisinde beşik çatılı tek örnek olarak inşa edilen Selahattin Selçuk Evi’ne ait tescil kaydı bulunmamaktadır. Yapı, 2015 yılında mülk sahipleri tarafından tamamen yıkılarak, yerine betonarme çok katlı bir ticari bir bina inşa edilmiştir. Selahattin Selçuk Evi, günümüz Van Şehri’nde XX. yüzyılın başlarından itibaren inşa edilen düz topraklı geleneksel Van konut mimarisinden oldukça farklıdır. Sonuç olarak, Van Sivil mimari yapılarının fiziksel olarak korunamayan evlerin doküman olarak gelecek kuşaklara aktarılmasında, mimarlık ve sanat tarihçilerinin bilimsel çalışmalarında yardımcı olmak için önemli bir boşluğu dolduracaktır.\n",
      "\n",
      "2: Housing architecture of Van developed in The Old City of Van until the beginning of XXth century. Houses had been built with adobe material, as one-storey or two-storey attached buildings with flat soil roofs. Detached houses in groups supervened to newly built houses in today’s City of Van after the year of 1900 having been rendered possible by available land width. Traditional houses were abandoned and ruined one by one since 1970s because of changes on social lifestyle and the people’s emulation for concrete buildings. In the absence of a City Conservation Development Plan, lack of observation and registration have accelerated this ruining process. In terms of architectural features, our case study Selahattin Selçuk House took place in scope of those plans that are two-storey, with inner halls, two facades, more than two rooms, without pavilion. The house which was evaluated as had been built between the end of the XIXth century and the first quarter of XXth century, was occupied until the year of 2011.  Western wall of the house’s upper floor was destroyed entirely in 2011 earthquake and some critical structural problems were arised in inner sections. A registration record has not been found about Selahattin Selçuk House that had been built as unique barrel roof sampled one among Van houses. The house had been destroyed entirely by its owners in 2015 and a multistorey commercial building have been built over. Selahattin Selçuk House was quite different than architecture of today’s flat soil roofed traditional Van housing which have been built in the City of Van since the beginning of XXth century. This difference appeared both outer and inner architectural parts of the building. As a conclusion, it is evaluated that documents about physically unpreserved houses among Van Civic architectural constructions should be transferred to next generations for contributing scientific studies of architects and art historians.\n",
      "\n",
      "1: İslam Mimarisi İslam Mimarisi İslam Mimarisiİslam Mimarisi İslam Mimarisi İslam Mimarisiİslam Mimarisi İslam Mimarisi İslam Mimarisiİslam Mimarisi İslam Mimarisi İslam Mimarisiİslam Mimarisi İslam Mimarisi İslam Mimarisi\n",
      "\n",
      "1: Türkiye'de Türk Mimarisi Türkiye'de Türk MimarisiTürkiye'de Türk Mimarisi Türkiye'de Türk MimarisiTürkiye'de Türk Mimarisi Türkiye'de Türk MimarisiTürkiye'de Türk Mimarisi Türkiye'de Türk MimarisiTürkiye'de Türk Mimarisi Türkiye'de Türk Mimarisi\n",
      "\n",
      "1: Türkiye'de Bizans Mimarisi Hakkındaki Yabancı Araştırmaların Kısa Tarihçesi (İkinci Dünya Savaşına Kadar)\n",
      "\n",
      "1: Selçuk Üniversitesi Güzel Sanatlar Fakültesi 1999 yılında kurulmuştur. 2001-2002 yılından itibaren öğrenci almaya başlayan Geleneksel Türk Sanatları Bölümü, 2005 yılında ilk mezunlarını vermiştir. Geleneksel Türk Sanatları Bölümüne özel yetenek sınavı ile öğrenci alınmaktadır. Geleneksel Türk Sanatları Bölümü; Eski Yazı (Hat), Tezhip (Tezyinat), Eski Çini Onarımı, Halı, Kilim ve Eski Kumaş Desenleri Ana Sanat dallarına ilâve olarak, Türkiye’de ilk kez açılan Kalemişi Ana Sanat Dalı ile birlikte, 5 ayrı ana sanat dalında eğitim vermeye devam etmektedir.Geleneksel Türk Sanatları Bölümü öğrencileri birinci sınıfın ilk döneminde, 5 ana sanat dalı hakkında bilgi edinebilmeleri ve seçmek istedikleri ana sanat dalını belirleyebilmeleri için, “Geleneksel Türk Sanatlarına Giriş” adlı ortak dersi almaktadır. Birinci sınıfın ikinci döneminde ise, eğitim almak istedikleri; 5 ana sanat dalından (Eski Yazı (Hat), Tezhip (Tezyinat), Eski Çini Onarımı, Halı, Kilim ve Eski Kumaş Desenleri ve Kalemişi) birisini tercih ederek eğitimine devam etmektedir.\n",
      "\n",
      "1: Balkanlarda Osmanlı Mimarisi\n",
      "\n",
      "1: Üniversiteler, kurulduklarından bu yana bireysel ve sosyal gelişimin yanında, bulunduklarıyörenin ekonomik kalkınmasında da önemli rol oynayan aktörlerdir. Araştırma, öğretim ve hizmetler, yüksek öğretimin temel fonksiyonlarıolsa da, yüksek öğretim kurumları, toplumda verimliliğin artması, işsizliğin azalması, bireysel gelirin artmasıve bunların sonucunda ülkenin ekonomik gelişiminin sağlanmasıyla birlikte pek çok sosyokültürel gelişimleri de beraberinde getirmektedir. Bu çalışma, Türkiye’nin öğrenci sayısıaçısından en büyük üniversitelerinden biri olan ve araştırma tarihi itibari ile kentteki tek üniversite olma özelliğini koruyan Selçuk Üniversitesi’nin Konya ekonomisine olan etkilerini irdelemeyi amaçlamaktadır. Bu çalışmada, Selçuk Üniversitesi’nin yöre ekonomisine yaptığıetkiler direkt, dolaylıve uyarılmışgelir ve istihdam rakamlarıolarak ortaya konacaktır.\n",
      "\n",
      "2: Besides the individual and social effects, universities also play an important role in the economic development of the cities in which they are located. Although research, education and services are the main functions of the universities, they also have considerable cultural, social and economical impacts on societies. They improve productivity, reduce unemployment, increase individual income and as a result, contribute the country’s development. Besides these economical impacts, they also bring many social and cultural progresses. This study is composed of four main parts. In the first section, the increasing importance in higher education is stressed and impacts of universities are classified with a special emphasis on economic aspects. In this section, some examples from developed countries are given. Second part gives brief information about Selcuk University. In the third section, Selcuk University’s economic impacts on Konya are examined and direct, indirect and induced impacts on employment and income are calculated. University’s budget expenditures and the results of the survey of 1000 student are used for the calculation. The fourth section discusses the results within the framework put forth in the first section. Theoretical framework was obtained from survey of books, periodicals, thesis and internet and the information was supported with the data received from various universities. Books, periodicals, thesis and information were acquired from National Library of Turkey, Libraries of Selcuk University, Middle East Technical University  METU , Turkish Higher Education Council  YOK , State Statistics Institute  DIE  and Konya Chamber of Commerce and several web sites. Numeric data were provided from Selcuk University’s Budget Office, Registrar’s Office, Health, Culture and Sports Office, Selcuk University’s Foundation and Revolving Fund Audit Office and Office of Personnel Affairs. Student expenditure data were obtained from a survey of 1000 students of Selcuk University. Impacts of universities can be classified into three categories: individual, social and economical. Contributing to personal development, improving knowledge and skill, providing a better job, income and a better life standard are some of the individual impacts of universities. Expansion of knowledge, increasing social and cultural standards, intercultural communication, awareness in public policy and social mobility are some of the social consequences. Universities have also important economical impacts like decreasing unemployment, increasing productivity, consumption, technological transfer and tax creation. Increasing regional income, economic structure and labor mobility, developments in housing, communication, transportation and medical facilities, decreasing infant mortality, increasing life expectancy are also macroeconomic benefits of universities. Various methods can be used to measure the economic impacts of universities: econometric models, economic base model, input-output analysis, cost-benefit analysis and multiplier models. Multiplier model is one of the most common used models since it provides the assessment of various expenditures of different components  i.e. staff, student, university  of universities. Its main hypothesis is the consumption expenditures trigger the investment expenditures and cause an expansion in the economy. This study examines Selcuk University’s direct, indirect and induced impacts on income and employment. Direct impacts of universities can be examined into two categories: direct employment and direct income. Academic and administrative staff employed by university forms the direct employment of the university; whereas the payment done by the university to these staff constitutes direct income impact. Indirect impacts of universities can also be examined into two categories like former: indirect income and indirect employment. Besides their payments to its staff, universities also make payments to various individuals or companies to get some goods or services. Moreover students’ expenditures are also an important source of local economy. The university’s expenditures  other than staff payments  and student expenditures can be called indirect income impact. Indirect employment can be calculated by dividing the total indirect income to the service production rate per person which is obtained from the data released by State Statistical Institute every year. Induced impacts are the increase of income and employment caused by the direct and indirect impacts of universities. Due to the direct and indirect employment, individuals earn money from their activities and spend that money to buy commodity and services which is accepted as induced impact of universities. Konya, which is one of the important cities of Turkey with its agriculture and industry, witnessed important social and economical changes after the establishment of Selcuk University which has approximately 75.000 students, and 5,000 staff. Selcuk University takes the second place among Turkish universities in terms of number of students; moreover by the time the study is undertaken, it has been the only university in the city. Results of the study showed that Selcuk University created 4.205 direct employment and 41.069.000 TL direct income in the 2002-2003 academic year. Selcuk University’s budget expenditures created 13.980.000 TL indirect income and it created 559 indirect employments in the 2002-2003 academic year. Student expenditures in 2003 were 182.964.387 TL and it has an indirect employment impact on 7.315 people. Revolving Fund of Selcuk University has contributed 24.065.310 TL indirect income and 962 indirect employments in the city of Konya in 2003. Selcuk University’s Foundation’s indirect income and indirect employment impacts in 2003 are 7.560.000 TL and 302 people respectively. In the year 2003, Selcuk University’s Health, Culture and Sports Office’s expenditures indirect income impact is 8.984.658 TL and indirect employment is 359 people. By adding Selcuk University’s Budget, Student, Revolving Fund, Foundation and Health, Culture and Sports Office’s expenditures, the total indirect income impact is calculated as 237.554.355 TL and the total indirect employment impact is calculated as 9.497 people in the year 2003. Induced income and employment impacts of Selcuk University are 852.587.466 TL and 34.085 people, respectively for the year 2003\n",
      "\n",
      "1: Bu çalışmamızda yeni nesillere aktarılmak üzere Selçuk Üniversitesi Tıp Fakültesi’nin nasıl kurulduğu, ilk yıllarda yaşanan zorlukların yanı sıra dayanışma, fedakarlıklar, bulunan çözümler ve Tıp Fakültesinin, Selçuk Üniversitesine ve Konya’ya kazandırdığı değerler araştırıldı. Bulgu ve belgeler incelenerek konunun Cumhuriyet Tıp Tarihi alanyazına kazandırılması amaçlandı.Çalışmada bulgular, yarı yapılandırılmış sözlü tarih çalışması ve ilgili belgelerin incelemesi ile elde edildi. Kuruluş sürecine tanıklık eden Selçuk Üniversitesi ve Tıp Fakültesindeki akademik, idari ve diğer kadrolarda yer alan kişilerden, dönemin tıp fakültesi öğrencilerinden, sivil toplum örgütlerinin yöneticilerinden onamları alınarak Konya’da yaşayanlarla yüz yüze görüşmeler yapıldı. Diğer şehirlerde yaşayanlardan telefon görüşmesi ve e-posta yolu ile veriler toplandı. Meclis tutanaklarından, dönemin yerel gazetelerinden, resmi izinle ulaşılan öğrenci arşivinden faydalanıldı.Bugün Tıp Fakültesinin öğrencisinden personeline, asistanından akademik kadrolarda bulunan öğretim üyesine kadar herkesin fakültenin geçirdiği tüm bu süreçleri, yaşanan zorlukları ve yapılan fedakârlıkları fark etmesi kurum aidiyeti açısından oldukça önemlidir.Selçuk Üniversitesi Tıp Fakültesi Konya için şifa dağıtan, küllerinden doğup, zorlu yollardan geçerek bizlere ulaşan adeta bir Anka Kuşu’dur.\n",
      "\n",
      "2: In this study, how the Selcuk University Faculty of Medicine was established to be passed on to new generations, the difficulties experienced in the first years, as well as the solidarity, sacrifices, solutions found and the values that the Faculty of Medicine brought to Selcuk University and Konya were investigated. The findings and documents were examined and the issue was intended to be brought into the field of Republic History of Medicine.The findings of the study were obtained by a semi-structured oral history study and examination of related documents. Face-to-face interviews were conducted with the residents of Konya by obtaining the consent of the academic, administrative and other staff members of Selcuk University and the Faculty of Medicine, the students of the faculty of medicine of the period, the managers of non-governmental organizations who witnessed the establishment process. Data were collected from people living in other cities via telephone calls and e-mails. Parliamentary minutes, local newspapers of the period, and student archives, which were accessed with official permission, were used.Today, it is very important in terms of belonging to the institution that everyone, from the student to staff of the medicine faculty, from the assistant to the faculty member in the academic staff, is aware of all these processes, the difficulties experienced and the sacrifices made by the faculty.Selcuk Üniversity Faculty of Medicine is a phoenix that heals for Konya, rises from its ashes and reaches through difficult roads.\n",
      "\n",
      "1: 18 Nisan 2021 tarihinde hiç beklenmedik biçimde yitirdiğimiz Sevgili arkadaşımız ve meslektaşımız Neslihan Güler Selçuk’un ardından yazmak gerçekten çok zor. Zihinde anılar, duygular, düşünceler, hüzünler, fotoğraflar, sözcükler sıralanıyor peş peşe. İnsan ne yazacağını, nasıl yazacağını, daha doğrusu yazıp yazmaması gerektiğini kestiremiyor. Acıyı yazmak, acıyla yazmak kolay değil çünkü. Çok özleyeceğiz onu.\n",
      "\n",
      "2: It is really difficult to write after our dear friend and colleague Neslihan Güler Selçuk, whom we lost unexpectedly on April 18, 2021. In the mind, memories, emotions, thoughts, sorrows, photographs, words are lined up one after another. One cannot predict what to write, how to write, more precisely whether or not to write. It is not easy to write with pain, because it is not easy. We will miss her very much.\n",
      "\n"
     ]
    }
   ],
   "source": [
    "import requests\n",
    "from bs4 import BeautifulSoup\n",
    "\n",
    "results = []\n",
    "urls = [\n",
    "    'https://dergipark.org.tr/tr/pub/ttkbelleten/issue/79935/1364024',\n",
    "    'https://dergipark.org.tr/tr/pub/anatolia/issue/57437/814247',\n",
    "    'https://dergipark.org.tr/tr/pub/ttkbelleten/issue/72483/1171014',\n",
    "    'https://dergipark.org.tr/tr/pub/amisos/issue/58894/804223',\n",
    "    'https://dergipark.org.tr/tr/pub/auifd/issue/68524/1072586',\n",
    "    'https://dergipark.org.tr/tr/pub/auifd/issue/68886/1087626',\n",
    "    'https://dergipark.org.tr/tr/pub/iusty/issue/34438/382107',\n",
    "    'https://dergipark.org.tr/tr/pub/lale/issue/80797/1351154',\n",
    "    'https://dergipark.org.tr/tr/pub/iusty/issue/34327/379799',\n",
    "    'https://dergipark.org.tr/tr/pub/susbed/issue/61799/924459',\n",
    "    'https://dergipark.org.tr/tr/pub/geneltip/issue/76042/1192211',\n",
    "    'https://dergipark.org.tr/tr/pub/tk/issue/62430/938580',\n",
    "]\n",
    "\n",
    "for url in urls:\n",
    "    response = requests.get(url)\n",
    "\n",
    "    if response.status_code == 200:\n",
    "        soup = BeautifulSoup(response.text, 'html.parser')\n",
    "\n",
    "        class_name = 'article-abstract data-section'  \n",
    "        elements = soup.find_all(class_=class_name)\n",
    "        \n",
    "        for i, element in enumerate(elements, start=1):\n",
    "            text = element.get_text(strip=True)\n",
    "            print(f'{i}: {text[2:]}\\n')            \n",
    "            results.append(f'{i}: ' + text[2:])\n",
    "    else:\n",
    "        print(f\"Failed to retrieve the page. Status code: {response.status_code}\")\n"
   ]
  },
  {
   "cell_type": "code",
   "execution_count": 19,
   "metadata": {},
   "outputs": [
    {
     "name": "stdout",
     "output_type": "stream",
     "text": [
      "1: Selçuk kervansarayları , XIII üncü asırda, Türkiye'nin iktisadi vaziyetini, memlekette cereyan eden ticari faaliyetleri ve devletin bu hususta takip etmiş olduğu siyaseti anlayabilmek için üzerinde durulması gereken çok dikkate şayan bir mevzudur. Selçuk tarihinin hemen her meselesi ve her mevzuu gibi bunlar da, kitabeleri ve mimari ehemmiyetleri hakkındaki tasviri mahiyette mahdut bazı yazılar istisna edilecek olursa, henüz tarihi bakımdan ciddi hiçbir tetkike tâbi tutulmamıştır, ki bunları n mühim sayılacak olanları yeri geldikçe burada zikredilecektir. Uzaktan bakılınca bir kale, içlerine girildiği zaman bir yolun bir konak menzilinde kervan kafilelerinin her türlü ihtiyaçlarını karşılayacak bir teşkilâta malik olan bu binalar ne kemiyet ve ne de keyfiyet bakımından İslâm dünyasının başka bölgelerinde emsaline rastlanamayacak bir kıymet taşırlar.\n",
      "1: Anadolu’da Bizans, Ermeni ve Antik sanatla karşılaşan Sclçuk’- lular yaratıcı güçlerinin yamsıra, birlikte getirdikleri İslam sanatı ve Orta Asya gelenekleriyle, sanatlarında orijinal bir sentez sundular.Bu sentezde antik ve Bizans devri malzemesinin enteresan sunuluşu yamsıra Orta Asya göçebe sanatı ve Anadolu Selçuk öncesi İslam sanatı unsurlarının ağır bastığı dikkati çeker.Selçukluların Anadolu’da bazilikal karaktere sahip bir grup cami haricinde, plan bakımından diğer camilerde, medrese, türbe, kervansaray ve saray yapılarında, İran Selçuk, Orta Asya, Abbasi ve Emevi devri eserlerinden ilham almış oldukları görülür.\n",
      "1: Burada kısaca Herzfeld'in 9. asır Abbasi Samarra alçılarında I. ve II. grup olarak ayırdığı stilize bitkisel motifli alçıların Iran yoluyla Anadolu'ya varan akislerini belirtmek istiyorum. Bilindiği gibi Part'lardan beri İran'da gelişen alçı işçiliği Samarra etkisiyle yeni bir hüviyet kazanmıştır. Çok üzerinde durulan I. Samarra alçı grubu eğri kesim tekniği stilinin görüldüğü, stilize yarım ve tam palmetlerin, helezonların, düğme gibi noktaların işlendiği Avrasya hayvan stilinden esinlenen, kalıplama tekniği ile işlenen örneklerdir. Bu stilde işlenmiş alçı, ahşap, taş malzemenin İslam sanatında çok geniş bir alanda şaşılacak benzerlikle birkaç asır kendini sürdürmesi Ettinghausen tarafından ilginç örneklerle açıklanmıştır. Mısır'da (876-79) Tolunoğlu camii alçı ve ahşap işçiliği örnekleri, 1003 tarihinden Kahire'de Fatımi devri El Hakim camii ahşap kirişleri bilinen en erken tarihli paralel örnekler olmaktadır. El Ezher camii harim alçılarında da Samarra I grubundan etkilenen çeşitli derin oyma alçılar tipiktir(970-71). İran'da bu stilin ilk örneklerinden biri Isfahan Mescidi Cuma'sının 072-92 arasına tarihlenen kirişleri üzerinde görülür ve 14. asra kadar alçı, ahşap örneklerle devam eder.\n",
      "1: Van’da konut mimarisi XX. yüzyılın başlarına kadar, Eski Van Şehri’nde gelişme göstermiştir. Bu dönemin evleri bir ve iki katlı, düz toprak damlı ve kerpiç malzeme kullanılarak bitişik nizamda inşa edilmiştir. 1900 yılından sonra günümüz Van Şehri’nde inşa edilen evlere gruplar halinde arazinin genişliğinden dolayı ayrık nizamda yeni evler ilave edilmiştir. 1970 yılından itibaren günümüz Van şehrinde hızla değişen sosyal hayat şartları halkın betonarme evlere özentisi ile geleneksel evler terk edilerek birer birer yıkılmıştır. Şehrin Koruma İmar Planı’nın hazırlanmayışı, tespit ve tescil yapılmaması yıkılma sürecini hızlandırmıştır. Çalışma kapsamında değerlendirdiğimiz Selahattin Selçuk Evi, mimari özellikleri bakımından, iki katlı iç sofalı, ikiyüzlü, ikiden fazla odalı, köşksüz plan içerisinde yer almaktadır. XIX. yüzyılın sonlarında ya da XX. yüzyılın ilk çeyreğinde inşa edildiği düşünülen ev, 2011 yılına kadar kullanılmıştır. 2011 yılında meydana gelen depremde evin üst katının batı duvarı tamamen yıkılmış, iç bölümlerde ise bazı ciddi strüktürel sorunlar oluşmuştur. Van evleri içerisinde beşik çatılı tek örnek olarak inşa edilen Selahattin Selçuk Evi’ne ait tescil kaydı bulunmamaktadır. Yapı, 2015 yılında mülk sahipleri tarafından tamamen yıkılarak, yerine betonarme çok katlı bir ticari bir bina inşa edilmiştir. Selahattin Selçuk Evi, günümüz Van Şehri’nde XX. yüzyılın başlarından itibaren inşa edilen düz topraklı geleneksel Van konut mimarisinden oldukça farklıdır. Sonuç olarak, Van Sivil mimari yapılarının fiziksel olarak korunamayan evlerin doküman olarak gelecek kuşaklara aktarılmasında, mimarlık ve sanat tarihçilerinin bilimsel çalışmalarında yardımcı olmak için önemli bir boşluğu dolduracaktır.\n",
      "1: İslam Mimarisi İslam Mimarisi İslam Mimarisiİslam Mimarisi İslam Mimarisi İslam Mimarisiİslam Mimarisi İslam Mimarisi İslam Mimarisiİslam Mimarisi İslam Mimarisi İslam Mimarisiİslam Mimarisi İslam Mimarisi İslam Mimarisi\n",
      "1: Türkiye'de Türk Mimarisi Türkiye'de Türk MimarisiTürkiye'de Türk Mimarisi Türkiye'de Türk MimarisiTürkiye'de Türk Mimarisi Türkiye'de Türk MimarisiTürkiye'de Türk Mimarisi Türkiye'de Türk MimarisiTürkiye'de Türk Mimarisi Türkiye'de Türk Mimarisi\n",
      "1: Türkiye'de Bizans Mimarisi Hakkındaki Yabancı Araştırmaların Kısa Tarihçesi (İkinci Dünya Savaşına Kadar)\n",
      "1: Selçuk Üniversitesi Güzel Sanatlar Fakültesi 1999 yılında kurulmuştur. 2001-2002 yılından itibaren öğrenci almaya başlayan Geleneksel Türk Sanatları Bölümü, 2005 yılında ilk mezunlarını vermiştir. Geleneksel Türk Sanatları Bölümüne özel yetenek sınavı ile öğrenci alınmaktadır. Geleneksel Türk Sanatları Bölümü; Eski Yazı (Hat), Tezhip (Tezyinat), Eski Çini Onarımı, Halı, Kilim ve Eski Kumaş Desenleri Ana Sanat dallarına ilâve olarak, Türkiye’de ilk kez açılan Kalemişi Ana Sanat Dalı ile birlikte, 5 ayrı ana sanat dalında eğitim vermeye devam etmektedir.Geleneksel Türk Sanatları Bölümü öğrencileri birinci sınıfın ilk döneminde, 5 ana sanat dalı hakkında bilgi edinebilmeleri ve seçmek istedikleri ana sanat dalını belirleyebilmeleri için, “Geleneksel Türk Sanatlarına Giriş” adlı ortak dersi almaktadır. Birinci sınıfın ikinci döneminde ise, eğitim almak istedikleri; 5 ana sanat dalından (Eski Yazı (Hat), Tezhip (Tezyinat), Eski Çini Onarımı, Halı, Kilim ve Eski Kumaş Desenleri ve Kalemişi) birisini tercih ederek eğitimine devam etmektedir.\n",
      "1: Balkanlarda Osmanlı Mimarisi\n",
      "1: Üniversiteler, kurulduklarından bu yana bireysel ve sosyal gelişimin yanında, bulunduklarıyörenin ekonomik kalkınmasında da önemli rol oynayan aktörlerdir. Araştırma, öğretim ve hizmetler, yüksek öğretimin temel fonksiyonlarıolsa da, yüksek öğretim kurumları, toplumda verimliliğin artması, işsizliğin azalması, bireysel gelirin artmasıve bunların sonucunda ülkenin ekonomik gelişiminin sağlanmasıyla birlikte pek çok sosyokültürel gelişimleri de beraberinde getirmektedir. Bu çalışma, Türkiye’nin öğrenci sayısıaçısından en büyük üniversitelerinden biri olan ve araştırma tarihi itibari ile kentteki tek üniversite olma özelliğini koruyan Selçuk Üniversitesi’nin Konya ekonomisine olan etkilerini irdelemeyi amaçlamaktadır. Bu çalışmada, Selçuk Üniversitesi’nin yöre ekonomisine yaptığıetkiler direkt, dolaylıve uyarılmışgelir ve istihdam rakamlarıolarak ortaya konacaktır.\n",
      "1: Bu çalışmamızda yeni nesillere aktarılmak üzere Selçuk Üniversitesi Tıp Fakültesi’nin nasıl kurulduğu, ilk yıllarda yaşanan zorlukların yanı sıra dayanışma, fedakarlıklar, bulunan çözümler ve Tıp Fakültesinin, Selçuk Üniversitesine ve Konya’ya kazandırdığı değerler araştırıldı. Bulgu ve belgeler incelenerek konunun Cumhuriyet Tıp Tarihi alanyazına kazandırılması amaçlandı.Çalışmada bulgular, yarı yapılandırılmış sözlü tarih çalışması ve ilgili belgelerin incelemesi ile elde edildi. Kuruluş sürecine tanıklık eden Selçuk Üniversitesi ve Tıp Fakültesindeki akademik, idari ve diğer kadrolarda yer alan kişilerden, dönemin tıp fakültesi öğrencilerinden, sivil toplum örgütlerinin yöneticilerinden onamları alınarak Konya’da yaşayanlarla yüz yüze görüşmeler yapıldı. Diğer şehirlerde yaşayanlardan telefon görüşmesi ve e-posta yolu ile veriler toplandı. Meclis tutanaklarından, dönemin yerel gazetelerinden, resmi izinle ulaşılan öğrenci arşivinden faydalanıldı.Bugün Tıp Fakültesinin öğrencisinden personeline, asistanından akademik kadrolarda bulunan öğretim üyesine kadar herkesin fakültenin geçirdiği tüm bu süreçleri, yaşanan zorlukları ve yapılan fedakârlıkları fark etmesi kurum aidiyeti açısından oldukça önemlidir.Selçuk Üniversitesi Tıp Fakültesi Konya için şifa dağıtan, küllerinden doğup, zorlu yollardan geçerek bizlere ulaşan adeta bir Anka Kuşu’dur.\n",
      "1: 18 Nisan 2021 tarihinde hiç beklenmedik biçimde yitirdiğimiz Sevgili arkadaşımız ve meslektaşımız Neslihan Güler Selçuk’un ardından yazmak gerçekten çok zor. Zihinde anılar, duygular, düşünceler, hüzünler, fotoğraflar, sözcükler sıralanıyor peş peşe. İnsan ne yazacağını, nasıl yazacağını, daha doğrusu yazıp yazmaması gerektiğini kestiremiyor. Acıyı yazmak, acıyla yazmak kolay değil çünkü. Çok özleyeceğiz onu.\n",
      " Selçuk kervansarayları , XIII üncü asırda, Türkiye'nin iktisadi vaziyetini, memlekette cereyan eden ticari faaliyetleri ve devletin bu hususta takip etmiş olduğu siyaseti anlayabilmek için üzerinde durulması gereken çok dikkate şayan bir mevzudur. Selçuk tarihinin hemen her meselesi ve her mevzuu gibi bunlar da, kitabeleri ve mimari ehemmiyetleri hakkındaki tasviri mahiyette mahdut bazı yazılar istisna edilecek olursa, henüz tarihi bakımdan ciddi hiçbir tetkike tâbi tutulmamıştır, ki bunları n mühim sayılacak olanları yeri geldikçe burada zikredilecektir. Uzaktan bakılınca bir kale, içlerine girildiği zaman bir yolun bir konak menzilinde kervan kafilelerinin her türlü ihtiyaçlarını karşılayacak bir teşkilâta malik olan bu binalar ne kemiyet ve ne de keyfiyet bakımından İslâm dünyasının başka bölgelerinde emsaline rastlanamayacak bir kıymet taşırlar. Anadolu’da Bizans, Ermeni ve Antik sanatla karşılaşan Sclçuk’- lular yaratıcı güçlerinin yamsıra, birlikte getirdikleri İslam sanatı ve Orta Asya gelenekleriyle, sanatlarında orijinal bir sentez sundular.Bu sentezde antik ve Bizans devri malzemesinin enteresan sunuluşu yamsıra Orta Asya göçebe sanatı ve Anadolu Selçuk öncesi İslam sanatı unsurlarının ağır bastığı dikkati çeker.Selçukluların Anadolu’da bazilikal karaktere sahip bir grup cami haricinde, plan bakımından diğer camilerde, medrese, türbe, kervansaray ve saray yapılarında, İran Selçuk, Orta Asya, Abbasi ve Emevi devri eserlerinden ilham almış oldukları görülür. Burada kısaca Herzfeld'in 9. asır Abbasi Samarra alçılarında I. ve II. grup olarak ayırdığı stilize bitkisel motifli alçıların Iran yoluyla Anadolu'ya varan akislerini belirtmek istiyorum. Bilindiği gibi Part'lardan beri İran'da gelişen alçı işçiliği Samarra etkisiyle yeni bir hüviyet kazanmıştır. Çok üzerinde durulan I. Samarra alçı grubu eğri kesim tekniği stilinin görüldüğü, stilize yarım ve tam palmetlerin, helezonların, düğme gibi noktaların işlendiği Avrasya hayvan stilinden esinlenen, kalıplama tekniği ile işlenen örneklerdir. Bu stilde işlenmiş alçı, ahşap, taş malzemenin İslam sanatında çok geniş bir alanda şaşılacak benzerlikle birkaç asır kendini sürdürmesi Ettinghausen tarafından ilginç örneklerle açıklanmıştır. Mısır'da (876-79) Tolunoğlu camii alçı ve ahşap işçiliği örnekleri, 1003 tarihinden Kahire'de Fatımi devri El Hakim camii ahşap kirişleri bilinen en erken tarihli paralel örnekler olmaktadır. El Ezher camii harim alçılarında da Samarra I grubundan etkilenen çeşitli derin oyma alçılar tipiktir(970-71). İran'da bu stilin ilk örneklerinden biri Isfahan Mescidi Cuma'sının 072-92 arasına tarihlenen kirişleri üzerinde görülür ve 14. asra kadar alçı, ahşap örneklerle devam eder. Van’da konut mimarisi XX. yüzyılın başlarına kadar, Eski Van Şehri’nde gelişme göstermiştir. Bu dönemin evleri bir ve iki katlı, düz toprak damlı ve kerpiç malzeme kullanılarak bitişik nizamda inşa edilmiştir. 1900 yılından sonra günümüz Van Şehri’nde inşa edilen evlere gruplar halinde arazinin genişliğinden dolayı ayrık nizamda yeni evler ilave edilmiştir. 1970 yılından itibaren günümüz Van şehrinde hızla değişen sosyal hayat şartları halkın betonarme evlere özentisi ile geleneksel evler terk edilerek birer birer yıkılmıştır. Şehrin Koruma İmar Planı’nın hazırlanmayışı, tespit ve tescil yapılmaması yıkılma sürecini hızlandırmıştır. Çalışma kapsamında değerlendirdiğimiz Selahattin Selçuk Evi, mimari özellikleri bakımından, iki katlı iç sofalı, ikiyüzlü, ikiden fazla odalı, köşksüz plan içerisinde yer almaktadır. XIX. yüzyılın sonlarında ya da XX. yüzyılın ilk çeyreğinde inşa edildiği düşünülen ev, 2011 yılına kadar kullanılmıştır. 2011 yılında meydana gelen depremde evin üst katının batı duvarı tamamen yıkılmış, iç bölümlerde ise bazı ciddi strüktürel sorunlar oluşmuştur. Van evleri içerisinde beşik çatılı tek örnek olarak inşa edilen Selahattin Selçuk Evi’ne ait tescil kaydı bulunmamaktadır. Yapı, 2015 yılında mülk sahipleri tarafından tamamen yıkılarak, yerine betonarme çok katlı bir ticari bir bina inşa edilmiştir. Selahattin Selçuk Evi, günümüz Van Şehri’nde XX. yüzyılın başlarından itibaren inşa edilen düz topraklı geleneksel Van konut mimarisinden oldukça farklıdır. Sonuç olarak, Van Sivil mimari yapılarının fiziksel olarak korunamayan evlerin doküman olarak gelecek kuşaklara aktarılmasında, mimarlık ve sanat tarihçilerinin bilimsel çalışmalarında yardımcı olmak için önemli bir boşluğu dolduracaktır. İslam Mimarisi İslam Mimarisi İslam Mimarisiİslam Mimarisi İslam Mimarisi İslam Mimarisiİslam Mimarisi İslam Mimarisi İslam Mimarisiİslam Mimarisi İslam Mimarisi İslam Mimarisiİslam Mimarisi İslam Mimarisi İslam Mimarisi Türkiye'de Türk Mimarisi Türkiye'de Türk MimarisiTürkiye'de Türk Mimarisi Türkiye'de Türk MimarisiTürkiye'de Türk Mimarisi Türkiye'de Türk MimarisiTürkiye'de Türk Mimarisi Türkiye'de Türk MimarisiTürkiye'de Türk Mimarisi Türkiye'de Türk Mimarisi Türkiye'de Bizans Mimarisi Hakkındaki Yabancı Araştırmaların Kısa Tarihçesi (İkinci Dünya Savaşına Kadar) Selçuk Üniversitesi Güzel Sanatlar Fakültesi 1999 yılında kurulmuştur. 2001-2002 yılından itibaren öğrenci almaya başlayan Geleneksel Türk Sanatları Bölümü, 2005 yılında ilk mezunlarını vermiştir. Geleneksel Türk Sanatları Bölümüne özel yetenek sınavı ile öğrenci alınmaktadır. Geleneksel Türk Sanatları Bölümü; Eski Yazı (Hat), Tezhip (Tezyinat), Eski Çini Onarımı, Halı, Kilim ve Eski Kumaş Desenleri Ana Sanat dallarına ilâve olarak, Türkiye’de ilk kez açılan Kalemişi Ana Sanat Dalı ile birlikte, 5 ayrı ana sanat dalında eğitim vermeye devam etmektedir.Geleneksel Türk Sanatları Bölümü öğrencileri birinci sınıfın ilk döneminde, 5 ana sanat dalı hakkında bilgi edinebilmeleri ve seçmek istedikleri ana sanat dalını belirleyebilmeleri için, “Geleneksel Türk Sanatlarına Giriş” adlı ortak dersi almaktadır. Birinci sınıfın ikinci döneminde ise, eğitim almak istedikleri; 5 ana sanat dalından (Eski Yazı (Hat), Tezhip (Tezyinat), Eski Çini Onarımı, Halı, Kilim ve Eski Kumaş Desenleri ve Kalemişi) birisini tercih ederek eğitimine devam etmektedir. Balkanlarda Osmanlı Mimarisi Üniversiteler, kurulduklarından bu yana bireysel ve sosyal gelişimin yanında, bulunduklarıyörenin ekonomik kalkınmasında da önemli rol oynayan aktörlerdir. Araştırma, öğretim ve hizmetler, yüksek öğretimin temel fonksiyonlarıolsa da, yüksek öğretim kurumları, toplumda verimliliğin artması, işsizliğin azalması, bireysel gelirin artmasıve bunların sonucunda ülkenin ekonomik gelişiminin sağlanmasıyla birlikte pek çok sosyokültürel gelişimleri de beraberinde getirmektedir. Bu çalışma, Türkiye’nin öğrenci sayısıaçısından en büyük üniversitelerinden biri olan ve araştırma tarihi itibari ile kentteki tek üniversite olma özelliğini koruyan Selçuk Üniversitesi’nin Konya ekonomisine olan etkilerini irdelemeyi amaçlamaktadır. Bu çalışmada, Selçuk Üniversitesi’nin yöre ekonomisine yaptığıetkiler direkt, dolaylıve uyarılmışgelir ve istihdam rakamlarıolarak ortaya konacaktır. Bu çalışmamızda yeni nesillere aktarılmak üzere Selçuk Üniversitesi Tıp Fakültesi’nin nasıl kurulduğu, ilk yıllarda yaşanan zorlukların yanı sıra dayanışma, fedakarlıklar, bulunan çözümler ve Tıp Fakültesinin, Selçuk Üniversitesine ve Konya’ya kazandırdığı değerler araştırıldı. Bulgu ve belgeler incelenerek konunun Cumhuriyet Tıp Tarihi alanyazına kazandırılması amaçlandı.Çalışmada bulgular, yarı yapılandırılmış sözlü tarih çalışması ve ilgili belgelerin incelemesi ile elde edildi. Kuruluş sürecine tanıklık eden Selçuk Üniversitesi ve Tıp Fakültesindeki akademik, idari ve diğer kadrolarda yer alan kişilerden, dönemin tıp fakültesi öğrencilerinden, sivil toplum örgütlerinin yöneticilerinden onamları alınarak Konya’da yaşayanlarla yüz yüze görüşmeler yapıldı. Diğer şehirlerde yaşayanlardan telefon görüşmesi ve e-posta yolu ile veriler toplandı. Meclis tutanaklarından, dönemin yerel gazetelerinden, resmi izinle ulaşılan öğrenci arşivinden faydalanıldı.Bugün Tıp Fakültesinin öğrencisinden personeline, asistanından akademik kadrolarda bulunan öğretim üyesine kadar herkesin fakültenin geçirdiği tüm bu süreçleri, yaşanan zorlukları ve yapılan fedakârlıkları fark etmesi kurum aidiyeti açısından oldukça önemlidir.Selçuk Üniversitesi Tıp Fakültesi Konya için şifa dağıtan, küllerinden doğup, zorlu yollardan geçerek bizlere ulaşan adeta bir Anka Kuşu’dur. 18 Nisan 2021 tarihinde hiç beklenmedik biçimde yitirdiğimiz Sevgili arkadaşımız ve meslektaşımız Neslihan Güler Selçuk’un ardından yazmak gerçekten çok zor. Zihinde anılar, duygular, düşünceler, hüzünler, fotoğraflar, sözcükler sıralanıyor peş peşe. İnsan ne yazacağını, nasıl yazacağını, daha doğrusu yazıp yazmaması gerektiğini kestiremiyor. Acıyı yazmak, acıyla yazmak kolay değil çünkü. Çok özleyeceğiz onu.\n"
     ]
    }
   ],
   "source": [
    "combinedText = ''\n",
    "for text in results:\n",
    "    if text[:2] == '1:':\n",
    "        combinedText += text[2:]\n",
    "        print(text)\n",
    "print(combinedText)"
   ]
  },
  {
   "cell_type": "code",
   "execution_count": 20,
   "metadata": {},
   "outputs": [
    {
     "name": "stdout",
     "output_type": "stream",
     "text": [
      "Counter({'ve': 35, 'mimarisi': 20, 'bir': 15, 'türk': 15, 'i̇slam': 14, 'selçuk': 12, 'bu': 10, 'çok': 7, 'ile': 7, 'van': 7, 'sanat': 7, \"türkiye'de\": 7, 'tıp': 7, 'ilk': 6, 'eski': 6, 'inşa': 6, 'ana': 6, 'geleneksel': 5, 'samarra': 4, 'olarak': 4, 'yüzyılın': 4, 'yılında': 4, 'mimarisii̇slam': 4, \"mimarisitürkiye'de\": 4, 'üniversitesi': 4, 'öğrenci': 4, 'sanatları': 4, 'için': 3, 'üzerinde': 3, 'her': 3, 'gibi': 3, 'mimari': 3, 'tarihi': 3, 'olan': 3, 'ne': 3, 'sanatı': 3, 'orta': 3, 'devri': 3, 'diğer': 3, 'alçı': 3, 'yeni': 3, 'camii': 3, 'ahşap': 3, 'da': 3, 'kadar': 3, 'devam': 3, 'xx.': 3, 'şehri’nde': 3, 'dönemin': 3, 'edilmiştir.': 3, 'yılından': 3, 'günümüz': 3, 'edilen': 3, 'itibaren': 3, 'selahattin': 3, 'fakültesi': 3, '5': 3, 'öğretim': 3, 'eden': 2, 'ticari': 2, 'da,': 2, 'hakkındaki': 2, 'bazı': 2, 'ciddi': 2, 'burada': 2, 'de': 2, 'bakımından': 2, 'anadolu’da': 2, 'antik': 2, 'birlikte': 2, 'asya': 2, 'bizans': 2, 'grup': 2, 'plan': 2, 'abbasi': 2, 'asır': 2, 'alçılarında': 2, 'i.': 2, 'stilize': 2, \"i̇ran'da\": 2, 'işçiliği': 2, 'tekniği': 2, 'alçı,': 2, 'tarafından': 2, 'örneklerle': 2, 'el': 2, 'kirişleri': 2, 'en': 2, 'biri': 2, 'konut': 2, 'evleri': 2, 'iki': 2, 'düz': 2, 'nizamda': 2, 'evlere': 2, 'evler': 2, 'sosyal': 2, 'betonarme': 2, 'birer': 2, 'tescil': 2, 'evi,': 2, 'katlı': 2, 'iç': 2, 'içerisinde': 2, 'yer': 2, 'almaktadır.': 2, '2011': 2, 'tamamen': 2, 'tek': 2, 'oldukça': 2, 'olarak,': 2, 'sivil': 2, 'önemli': 2, 'yazı': 2, '(hat),': 2, 'tezhip': 2, '(tezyinat),': 2, 'çini': 2, 'onarımı,': 2, 'halı,': 2, 'kilim': 2, 'kumaş': 2, 'desenleri': 2, 'dalı': 2, 'eğitim': 2, 'birinci': 2, 'sınıfın': 2, 'bireysel': 2, 'ekonomik': 2, 'yüksek': 2, 'üniversitesi’nin': 2, 'konya': 2, 'ekonomisine': 2, 'nasıl': 2, 'yaşanan': 2, 'bulunan': 2, 'kadrolarda': 2, 'yazmak': 2, 'yazacağını,': 2, 'kervansarayları': 1, ',': 1, 'xiii': 1, 'üncü': 1, 'asırda,': 1, \"türkiye'nin\": 1, 'iktisadi': 1, 'vaziyetini,': 1, 'memlekette': 1, 'cereyan': 1, 'faaliyetleri': 1, 'devletin': 1, 'hususta': 1, 'takip': 1, 'etmiş': 1, 'olduğu': 1, 'siyaseti': 1, 'anlayabilmek': 1, 'durulması': 1, 'gereken': 1, 'dikkate': 1, 'şayan': 1, 'mevzudur.': 1, 'tarihinin': 1, 'hemen': 1, 'meselesi': 1, 'mevzuu': 1, 'bunlar': 1, 'kitabeleri': 1, 'ehemmiyetleri': 1, 'tasviri': 1, 'mahiyette': 1, 'mahdut': 1, 'yazılar': 1, 'istisna': 1, 'edilecek': 1, 'olursa,': 1, 'henüz': 1, 'bakımdan': 1, 'hiçbir': 1, 'tetkike': 1, 'tâbi': 1, 'tutulmamıştır,': 1, 'ki': 1, 'bunları': 1, 'n': 1, 'mühim': 1, 'sayılacak': 1, 'olanları': 1, 'yeri': 1, 'geldikçe': 1, 'zikredilecektir.': 1, 'uzaktan': 1, 'bakılınca': 1, 'kale,': 1, 'içlerine': 1, 'girildiği': 1, 'zaman': 1, 'yolun': 1, 'konak': 1, 'menzilinde': 1, 'kervan': 1, 'kafilelerinin': 1, 'türlü': 1, 'ihtiyaçlarını': 1, 'karşılayacak': 1, 'teşkilâta': 1, 'malik': 1, 'binalar': 1, 'kemiyet': 1, 'keyfiyet': 1, 'i̇slâm': 1, 'dünyasının': 1, 'başka': 1, 'bölgelerinde': 1, 'emsaline': 1, 'rastlanamayacak': 1, 'kıymet': 1, 'taşırlar.': 1, 'bizans,': 1, 'ermeni': 1, 'sanatla': 1, 'karşılaşan': 1, 'sclçuk’-': 1, 'lular': 1, 'yaratıcı': 1, 'güçlerinin': 1, 'yamsıra,': 1, 'getirdikleri': 1, 'gelenekleriyle,': 1, 'sanatlarında': 1, 'orijinal': 1, 'sentez': 1, 'sundular.bu': 1, 'sentezde': 1, 'malzemesinin': 1, 'enteresan': 1, 'sunuluşu': 1, 'yamsıra': 1, 'göçebe': 1, 'anadolu': 1, 'öncesi': 1, 'unsurlarının': 1, 'ağır': 1, 'bastığı': 1, 'dikkati': 1, 'çeker.selçukluların': 1, 'bazilikal': 1, 'karaktere': 1, 'sahip': 1, 'cami': 1, 'haricinde,': 1, 'camilerde,': 1, 'medrese,': 1, 'türbe,': 1, 'kervansaray': 1, 'saray': 1, 'yapılarında,': 1, 'i̇ran': 1, 'selçuk,': 1, 'asya,': 1, 'emevi': 1, 'eserlerinden': 1, 'ilham': 1, 'almış': 1, 'oldukları': 1, 'görülür.': 1, 'kısaca': 1, \"herzfeld'in\": 1, '9.': 1, 'ii.': 1, 'ayırdığı': 1, 'bitkisel': 1, 'motifli': 1, 'alçıların': 1, 'iran': 1, 'yoluyla': 1, \"anadolu'ya\": 1, 'varan': 1, 'akislerini': 1, 'belirtmek': 1, 'istiyorum.': 1, 'bilindiği': 1, \"part'lardan\": 1, 'beri': 1, 'gelişen': 1, 'etkisiyle': 1, 'hüviyet': 1, 'kazanmıştır.': 1, 'durulan': 1, 'grubu': 1, 'eğri': 1, 'kesim': 1, 'stilinin': 1, 'görüldüğü,': 1, 'yarım': 1, 'tam': 1, 'palmetlerin,': 1, 'helezonların,': 1, 'düğme': 1, 'noktaların': 1, 'işlendiği': 1, 'avrasya': 1, 'hayvan': 1, 'stilinden': 1, 'esinlenen,': 1, 'kalıplama': 1, 'işlenen': 1, 'örneklerdir.': 1, 'stilde': 1, 'işlenmiş': 1, 'ahşap,': 1, 'taş': 1, 'malzemenin': 1, 'sanatında': 1, 'geniş': 1, 'alanda': 1, 'şaşılacak': 1, 'benzerlikle': 1, 'birkaç': 1, 'kendini': 1, 'sürdürmesi': 1, 'ettinghausen': 1, 'ilginç': 1, 'açıklanmıştır.': 1, \"mısır'da\": 1, '(876-79)': 1, 'tolunoğlu': 1, 'örnekleri,': 1, '1003': 1, 'tarihinden': 1, \"kahire'de\": 1, 'fatımi': 1, 'hakim': 1, 'bilinen': 1, 'erken': 1, 'tarihli': 1, 'paralel': 1, 'örnekler': 1, 'olmaktadır.': 1, 'ezher': 1, 'harim': 1, 'i': 1, 'grubundan': 1, 'etkilenen': 1, 'çeşitli': 1, 'derin': 1, 'oyma': 1, 'alçılar': 1, 'tipiktir(970-71).': 1, 'stilin': 1, 'örneklerinden': 1, 'isfahan': 1, 'mescidi': 1, \"cuma'sının\": 1, '072-92': 1, 'arasına': 1, 'tarihlenen': 1, 'görülür': 1, '14.': 1, 'asra': 1, 'eder.': 1, 'van’da': 1, 'başlarına': 1, 'kadar,': 1, 'gelişme': 1, 'göstermiştir.': 1, 'katlı,': 1, 'toprak': 1, 'damlı': 1, 'kerpiç': 1, 'malzeme': 1, 'kullanılarak': 1, 'bitişik': 1, '1900': 1, 'sonra': 1, 'gruplar': 1, 'halinde': 1, 'arazinin': 1, 'genişliğinden': 1, 'dolayı': 1, 'ayrık': 1, 'ilave': 1, '1970': 1, 'şehrinde': 1, 'hızla': 1, 'değişen': 1, 'hayat': 1, 'şartları': 1, 'halkın': 1, 'özentisi': 1, 'terk': 1, 'edilerek': 1, 'yıkılmıştır.': 1, 'şehrin': 1, 'koruma': 1, 'i̇mar': 1, 'planı’nın': 1, 'hazırlanmayışı,': 1, 'tespit': 1, 'yapılmaması': 1, 'yıkılma': 1, 'sürecini': 1, 'hızlandırmıştır.': 1, 'çalışma': 1, 'kapsamında': 1, 'değerlendirdiğimiz': 1, 'özellikleri': 1, 'bakımından,': 1, 'sofalı,': 1, 'ikiyüzlü,': 1, 'ikiden': 1, 'fazla': 1, 'odalı,': 1, 'köşksüz': 1, 'xix.': 1, 'sonlarında': 1, 'ya': 1, 'çeyreğinde': 1, 'edildiği': 1, 'düşünülen': 1, 'ev,': 1, 'yılına': 1, 'kullanılmıştır.': 1, 'meydana': 1, 'gelen': 1, 'depremde': 1, 'evin': 1, 'üst': 1, 'katının': 1, 'batı': 1, 'duvarı': 1, 'yıkılmış,': 1, 'bölümlerde': 1, 'ise': 1, 'strüktürel': 1, 'sorunlar': 1, 'oluşmuştur.': 1, 'beşik': 1, 'çatılı': 1, 'örnek': 1, 'evi’ne': 1, 'ait': 1, 'kaydı': 1, 'bulunmamaktadır.': 1, 'yapı,': 1, '2015': 1, 'mülk': 1, 'sahipleri': 1, 'yıkılarak,': 1, 'yerine': 1, 'bina': 1, 'başlarından': 1, 'topraklı': 1, 'mimarisinden': 1, 'farklıdır.': 1, 'sonuç': 1, 'yapılarının': 1, 'fiziksel': 1, 'korunamayan': 1, 'evlerin': 1, 'doküman': 1, 'gelecek': 1, 'kuşaklara': 1, 'aktarılmasında,': 1, 'mimarlık': 1, 'tarihçilerinin': 1, 'bilimsel': 1, 'çalışmalarında': 1, 'yardımcı': 1, 'olmak': 1, 'boşluğu': 1, 'dolduracaktır.': 1, 'yabancı': 1, 'araştırmaların': 1, 'kısa': 1, 'tarihçesi': 1, '(i̇kinci': 1, 'dünya': 1, 'savaşına': 1, 'kadar)': 1, 'güzel': 1, 'sanatlar': 1, '1999': 1, 'kurulmuştur.': 1, '2001-2002': 1, 'almaya': 1, 'başlayan': 1, 'bölümü,': 1, '2005': 1, 'mezunlarını': 1, 'vermiştir.': 1, 'bölümüne': 1, 'özel': 1, 'yetenek': 1, 'sınavı': 1, 'alınmaktadır.': 1, 'bölümü;': 1, 'dallarına': 1, 'ilâve': 1, 'türkiye’de': 1, 'kez': 1, 'açılan': 1, 'kalemişi': 1, 'birlikte,': 1, 'ayrı': 1, 'dalında': 1, 'vermeye': 1, 'etmektedir.geleneksel': 1, 'bölümü': 1, 'öğrencileri': 1, 'döneminde,': 1, 'hakkında': 1, 'bilgi': 1, 'edinebilmeleri': 1, 'seçmek': 1, 'istedikleri': 1, 'dalını': 1, 'belirleyebilmeleri': 1, 'için,': 1, '“geleneksel': 1, 'sanatlarına': 1, 'giriş”': 1, 'adlı': 1, 'ortak': 1, 'dersi': 1, 'ikinci': 1, 'döneminde': 1, 'ise,': 1, 'almak': 1, 'istedikleri;': 1, 'dalından': 1, '(eski': 1, 'kalemişi)': 1, 'birisini': 1, 'tercih': 1, 'ederek': 1, 'eğitimine': 1, 'etmektedir.': 1, 'balkanlarda': 1, 'osmanlı': 1, 'üniversiteler,': 1, 'kurulduklarından': 1, 'yana': 1, 'gelişimin': 1, 'yanında,': 1, 'bulunduklarıyörenin': 1, 'kalkınmasında': 1, 'rol': 1, 'oynayan': 1, 'aktörlerdir.': 1, 'araştırma,': 1, 'hizmetler,': 1, 'öğretimin': 1, 'temel': 1, 'fonksiyonlarıolsa': 1, 'kurumları,': 1, 'toplumda': 1, 'verimliliğin': 1, 'artması,': 1, 'işsizliğin': 1, 'azalması,': 1, 'gelirin': 1, 'artmasıve': 1, 'bunların': 1, 'sonucunda': 1, 'ülkenin': 1, 'gelişiminin': 1, 'sağlanmasıyla': 1, 'pek': 1, 'sosyokültürel': 1, 'gelişimleri': 1, 'beraberinde': 1, 'getirmektedir.': 1, 'çalışma,': 1, 'türkiye’nin': 1, 'sayısıaçısından': 1, 'büyük': 1, 'üniversitelerinden': 1, 'araştırma': 1, 'itibari': 1, 'kentteki': 1, 'üniversite': 1, 'olma': 1, 'özelliğini': 1, 'koruyan': 1, 'etkilerini': 1, 'irdelemeyi': 1, 'amaçlamaktadır.': 1, 'çalışmada,': 1, 'yöre': 1, 'yaptığıetkiler': 1, 'direkt,': 1, 'dolaylıve': 1, 'uyarılmışgelir': 1, 'istihdam': 1, 'rakamlarıolarak': 1, 'ortaya': 1, 'konacaktır.': 1, 'çalışmamızda': 1, 'nesillere': 1, 'aktarılmak': 1, 'üzere': 1, 'fakültesi’nin': 1, 'kurulduğu,': 1, 'yıllarda': 1, 'zorlukların': 1, 'yanı': 1, 'sıra': 1, 'dayanışma,': 1, 'fedakarlıklar,': 1, 'çözümler': 1, 'fakültesinin,': 1, 'üniversitesine': 1, 'konya’ya': 1, 'kazandırdığı': 1, 'değerler': 1, 'araştırıldı.': 1, 'bulgu': 1, 'belgeler': 1, 'incelenerek': 1, 'konunun': 1, 'cumhuriyet': 1, 'alanyazına': 1, 'kazandırılması': 1, 'amaçlandı.çalışmada': 1, 'bulgular,': 1, 'yarı': 1, 'yapılandırılmış': 1, 'sözlü': 1, 'tarih': 1, 'çalışması': 1, 'ilgili': 1, 'belgelerin': 1, 'incelemesi': 1, 'elde': 1, 'edildi.': 1, 'kuruluş': 1, 'sürecine': 1, 'tanıklık': 1, 'fakültesindeki': 1, 'akademik,': 1, 'idari': 1, 'alan': 1, 'kişilerden,': 1, 'öğrencilerinden,': 1, 'toplum': 1, 'örgütlerinin': 1, 'yöneticilerinden': 1, 'onamları': 1, 'alınarak': 1, 'konya’da': 1, 'yaşayanlarla': 1, 'yüz': 1, 'yüze': 1, 'görüşmeler': 1, 'yapıldı.': 1, 'şehirlerde': 1, 'yaşayanlardan': 1, 'telefon': 1, 'görüşmesi': 1, 'e-posta': 1, 'yolu': 1, 'veriler': 1, 'toplandı.': 1, 'meclis': 1, 'tutanaklarından,': 1, 'yerel': 1, 'gazetelerinden,': 1, 'resmi': 1, 'izinle': 1, 'ulaşılan': 1, 'arşivinden': 1, 'faydalanıldı.bugün': 1, 'fakültesinin': 1, 'öğrencisinden': 1, 'personeline,': 1, 'asistanından': 1, 'akademik': 1, 'üyesine': 1, 'herkesin': 1, 'fakültenin': 1, 'geçirdiği': 1, 'tüm': 1, 'süreçleri,': 1, 'zorlukları': 1, 'yapılan': 1, 'fedakârlıkları': 1, 'fark': 1, 'etmesi': 1, 'kurum': 1, 'aidiyeti': 1, 'açısından': 1, 'önemlidir.selçuk': 1, 'şifa': 1, 'dağıtan,': 1, 'küllerinden': 1, 'doğup,': 1, 'zorlu': 1, 'yollardan': 1, 'geçerek': 1, 'bizlere': 1, 'ulaşan': 1, 'adeta': 1, 'anka': 1, 'kuşu’dur.': 1, '18': 1, 'nisan': 1, '2021': 1, 'tarihinde': 1, 'hiç': 1, 'beklenmedik': 1, 'biçimde': 1, 'yitirdiğimiz': 1, 'sevgili': 1, 'arkadaşımız': 1, 'meslektaşımız': 1, 'neslihan': 1, 'güler': 1, 'selçuk’un': 1, 'ardından': 1, 'gerçekten': 1, 'zor.': 1, 'zihinde': 1, 'anılar,': 1, 'duygular,': 1, 'düşünceler,': 1, 'hüzünler,': 1, 'fotoğraflar,': 1, 'sözcükler': 1, 'sıralanıyor': 1, 'peş': 1, 'peşe.': 1, 'i̇nsan': 1, 'daha': 1, 'doğrusu': 1, 'yazıp': 1, 'yazmaması': 1, 'gerektiğini': 1, 'kestiremiyor.': 1, 'acıyı': 1, 'yazmak,': 1, 'acıyla': 1, 'kolay': 1, 'değil': 1, 'çünkü.': 1, 'özleyeceğiz': 1, 'onu.': 1})\n"
     ]
    }
   ],
   "source": [
    "combinedText\n",
    "from collections import Counter\n",
    " \n",
    "kelimeler = combinedText.lower().split()\n",
    "frekans = Counter(kelimeler)\n",
    "print(frekans)"
   ]
  },
  {
   "cell_type": "code",
   "execution_count": 22,
   "metadata": {},
   "outputs": [
    {
     "name": "stdout",
     "output_type": "stream",
     "text": [
      "[('bulunduklarıyörenin', 0.7371), ('tutulmamıştır', 0.7244), ('yaptığıetkiler', 0.7195), ('bulunmamaktadır', 0.715), ('uyarılmışgelir', 0.7126)]\n"
     ]
    }
   ],
   "source": [
    "combinedText\n",
    "from keybert import KeyBERT\n",
    "\n",
    "model = KeyBERT('distilbert-base-nli-mean-tokens')\n",
    "anahtar_kelime = model.extract_keywords(combinedText)\n",
    "print(anahtar_kelime)"
   ]
  },
  {
   "cell_type": "code",
   "execution_count": 27,
   "metadata": {},
   "outputs": [
    {
     "name": "stdout",
     "output_type": "stream",
     "text": [
      "Duygu Puanı: 0.08456539523468658\n",
      "Duygu Yoğunluğu: 0.40013736919248744\n"
     ]
    }
   ],
   "source": [
    "from textblob import TextBlob\n",
    "from textblob import Word\n",
    "from deep_translator import GoogleTranslator\n",
    "\n",
    "\n",
    "# Türkçe metni İngilizceye çevir\n",
    "translated_text1 = GoogleTranslator(source='tr', target='en').translate(combinedText[:4999]) \n",
    "translated_text2 = GoogleTranslator(source='tr', target='en').translate(combinedText[4999:]) \n",
    "# Çevirilen metni TextBlob ile analiz et     \n",
    "blob = TextBlob(translated_text1+translated_text2)\n",
    "\n",
    "# Duygu analizi\n",
    "print(f\"Duygu Puanı: {blob.sentiment.polarity}\")  # -1 ile 1 arasında bir değer\n",
    "print(f\"Duygu Yoğunluğu: {blob.sentiment.subjectivity}\")  # 0 ile 1 arasında bir değer\n"
   ]
  },
  {
   "cell_type": "code",
   "execution_count": null,
   "metadata": {},
   "outputs": [
    {
     "ename": "NameError",
     "evalue": "name 'combinedText' is not defined",
     "output_type": "error",
     "traceback": [
      "\u001b[1;31m---------------------------------------------------------------------------\u001b[0m",
      "\u001b[1;31mNameError\u001b[0m                                 Traceback (most recent call last)",
      "Cell \u001b[1;32mIn[1], line 8\u001b[0m\n\u001b[0;32m      3\u001b[0m \u001b[38;5;28;01mfrom\u001b[39;00m \u001b[38;5;21;01mPIL\u001b[39;00m \u001b[38;5;28;01mimport\u001b[39;00m Image\n\u001b[0;32m      6\u001b[0m \u001b[38;5;28;01mfrom\u001b[39;00m \u001b[38;5;21;01mwordcloud\u001b[39;00m \u001b[38;5;28;01mimport\u001b[39;00m WordCloud\n\u001b[1;32m----> 8\u001b[0m token \u001b[38;5;241m=\u001b[39m \u001b[43mcombinedText\u001b[49m\u001b[38;5;241m.\u001b[39msplit(\u001b[38;5;124m'\u001b[39m\u001b[38;5;124m \u001b[39m\u001b[38;5;124m'\u001b[39m)\n\u001b[0;32m      9\u001b[0m text_ \u001b[38;5;241m=\u001b[39m \u001b[38;5;124m'\u001b[39m\u001b[38;5;124m \u001b[39m\u001b[38;5;124m'\u001b[39m\u001b[38;5;241m.\u001b[39mjoin(\u001b[38;5;28mmap\u001b[39m(\u001b[38;5;28mstr\u001b[39m,token))\n\u001b[0;32m     11\u001b[0m wc \u001b[38;5;241m=\u001b[39m WordCloud(\n\u001b[0;32m     12\u001b[0m         background_color \u001b[38;5;241m=\u001b[39m \u001b[38;5;124m'\u001b[39m\u001b[38;5;124mblack\u001b[39m\u001b[38;5;124m'\u001b[39m, \n\u001b[0;32m     13\u001b[0m         contour_width \u001b[38;5;241m=\u001b[39m \u001b[38;5;241m2\u001b[39m,\n\u001b[1;32m   (...)\u001b[0m\n\u001b[0;32m     17\u001b[0m         height \u001b[38;5;241m=\u001b[39m \u001b[38;5;241m500\u001b[39m\n\u001b[0;32m     18\u001b[0m     )\u001b[38;5;241m.\u001b[39mgenerate(text_)\n",
      "\u001b[1;31mNameError\u001b[0m: name 'combinedText' is not defined"
     ]
    }
   ],
   "source": [
    "import numpy as np\n",
    "import matplotlib.pyplot as plt\n",
    "from PIL import Image\n",
    "\n",
    "\n",
    "from wordcloud import WordCloud\n",
    "\n",
    "token = combinedText.split(' ')\n",
    "text_ = ' '.join(map(str,token))\n",
    "\n",
    "wc = WordCloud(\n",
    "        background_color = 'black', \n",
    "        contour_width = 2,\n",
    "        contour_color = 'black',\n",
    "        colormap = 'BuPu_r',\n",
    "        width = 800,\n",
    "        height = 500\n",
    "    ).generate(text_)\n",
    "plt.axis(\"off\")\n",
    "plt.imshow(wc)"
   ]
  }
 ],
 "metadata": {
  "kernelspec": {
   "display_name": ".venv",
   "language": "python",
   "name": "python3"
  },
  "language_info": {
   "codemirror_mode": {
    "name": "ipython",
    "version": 3
   },
   "file_extension": ".py",
   "mimetype": "text/x-python",
   "name": "python",
   "nbconvert_exporter": "python",
   "pygments_lexer": "ipython3",
   "version": "3.12.6"
  }
 },
 "nbformat": 4,
 "nbformat_minor": 2
}
