{
 "cells": [
  {
   "cell_type": "code",
   "execution_count": 1,
   "metadata": {},
   "outputs": [],
   "source": [
    "from textblob import TextBlob\n",
    "from textblob import Word\n",
    "from deep_translator import GoogleTranslator\n",
    "\n",
    "def duyguAnalizi(text):\n",
    "    translated_text = GoogleTranslator(source='tr', target='en').translate(text)       \n",
    "    blob = TextBlob(translated_text)\n",
    "    return(blob.sentiment)\n"
   ]
  },
  {
   "cell_type": "code",
   "execution_count": 2,
   "metadata": {},
   "outputs": [],
   "source": [
    "urun1 = {\n",
    "    'link': r'https://www.hepsiburada.com/huawei-matebook-d14-2024-intel-core-i5-12450h-8gb-512gb-ssd-windows-11-home-14-ips-tasinabilir-bilgisayar-p-HBCV00005WJBQV?magaza=Hepsiburada',\n",
    "    'yorumlar':[\n",
    "        'Arkadaşlar okul için aldım office uygulamalarını  kullanıyorum iyi oyun için önermem gunluk kullanıma uygundur gönül rahatlığıyla alabilirsiniz paketlemede ozenliydi',\n",
    "        'Ürün fiyat performansın ötesinde görünüyor.Pili vs öyle eski usul laptoplar gibi değil büyütülmüş telefon gibi düşünün sarjı doldur devam et.Öyle oyun grafik tasarım üst düzey şeyler istemiyorsanız ev iş ofis için ideal görünüyor. Kibar bir ürün. Şuan için tıkır tıkır çalışıyor. İlerleyen süreci bilemeyiz tabi. Şuan için gayet memnunuz',\n",
    "        'Hızlı açılış, ssd si yeterli,hafif kaliteli ürün tek sıkıntısı 8 gb Ramı.Görüntü kalitesi iyi ben memnun kaldım..İhtiyacı olan alsın bence Dizüstü leri 5-6ay araştırdıktan sonra Huawei de karar kıldım.',\n",
    "        'Ürün ile alakli bir sorunum kesinlikle yok ancak kargo süresi 5 gün sürdü ve hiç bir şekilde kimse ile muhatap olamıyorsunuz yani ürün çok iyi ama hizmet çok kötü',\n",
    "        'Ofis için edindik f/p ürünü çok kaliteli ve zarif özellikleri ve fiyatı da cabası… Teşekkürler Hepsiburada…',\n",
    "        'Fiyat performans ürünü. Yeni teknolojilerle aram iyi olmamasına rağmen kolay kurdum. sadece maillerimi taşıyamadım. Bir bilene danışmam gerekecek.',\n",
    "        'Gayet güzel. Bir hafta önce aldım yorum yapmak için bekledim ve çok memnun kaldım.',\n",
    "        'Çok memnunum, şarjı uzun süre gidiyor ,ısınmıyor ,ses kalitesi güzel, görüntüsü harika.Kargo da hızlıydı',\n",
    "        'Ürün değilde yaptığım alışverişler içerisinde en hızlı teslimat buydu . Teşekkür ediyorum',\n",
    "        'Siparişim 2 günde elime ulaştı. Gayet güzel bilgisayar tam okula üniversiteye giden öğrenciler için bire bir',\n",
    "        'Günlük kullanım ofis işleri için Huawei dışında bir bilgisayar düşünemiyorum. Çok zarif çok kibar çok düzgün her şeyiyle yeterli.',\n",
    "        'Malzeme kalitesi kötü',\n",
    "        'Ürünü daha kullanmaya başlayalı 5. Dakika oldu kurulumunu tamamlayana kadar aşırı derecede ısınma yaptı bu yüzden iade',\n",
    "        'Paketleme hiç özenli değil bir poşetin içine koyup gönderilmiş.',\n",
    "    ]\n",
    "}\n",
    "\n",
    "urun2 = {\n",
    "    'link':'https://www.hepsiburada.com/bella-maison-olmo-mermer-dikdortgen-sunum-standi-naturel-15x30-cm-p-HBCV0000701YQA-yorumlari?sayfa=1&filtre=1',\n",
    "    'yorumlar' : [\n",
    "        'Mermeri çizik geldi ayakları da fotoğraftakinden daha koyu. İade',\n",
    "        'Ürünün iki ayağı kirık geldi !!',\n",
    "        'Ürün sağlam olarak ulaştı, görseldeki ile aynı, gayet şık ve kullanışlı.',\n",
    "        'Muhteşem',\n",
    "        'Ürünün ayağının biri kırık geldi beklentimi karşılamadı fiyatını hakeden bir ürün değil',\n",
    "\n",
    "    ]\n",
    "}\n",
    "\n",
    "urun3 = {\n",
    "    'link' : 'https://www.hepsiburada.com/motul-kask-bakim-seti-m1-kask-ic-m2-kask-dis-p-HBV00000GPAZB?magaza=par%C3%A7aXpar%C3%A7a',\n",
    "    'yorumlar' : [\n",
    "        'Hızlı kargo edildi. Ürünler balonlu pat pat naylona sarılmış ve hasarsız ulaştı. Satıcı tarafında herşey olması gerektiği gibiydi. Markanın kalitesi zaten bilinmektedir.',\n",
    "        'Paketleme çok güzeldi, sağlam bir şekilde geldi',\n",
    "        'Sağlam şekilde teslim edildi daha önce kullandığım ürün teşekkür ederim.',\n",
    "        'Kaskı pırıl pırıl yaptı, tüm kokuyu aldı. 3-4ayda bir yapılsa olur',\n",
    "        'Tavsiye ederim',\n",
    "        'İLKKEZ KULLANIYORUM KUKUSU ÇOK HOŞ VE VİZÖRÜ VE KASKTAKİ SİNEK VS LEKERİNİ İYİ ÇIKARIYOR TAVSİYE EDERİM',\n",
    "        'Güzel paketleme orjinal ürün',\n",
    "        'Motul m1 iyi ama yanında beklediğim m2 yerine deri temizleme olan motul m3 geldi',\n",
    "        'Sadece ürün paketlemesi kötüydü, 4 şişe birden sadece poşete atılmış, şişeler sızdırmaya başlamıştı. Kutu içinde gönderilirse daha emniyetli olur diye düşünüyorum.',\n",
    "        'hızlı teslimat ve özenli kargolama için teşekkürler. fiyatta oldukça iyi',\n",
    "        'Güzel paket hızlı kargo iyi urun',\n",
    "        'güzel ürünler hızlı kargo',\n",
    "    ]\n",
    "}\n",
    "\n",
    "urun4 = {\n",
    "    'link' : 'https://www.hepsiburada.com/knmaster-kn6100-motosiklet-kask-interkom-bluetooth-intercom-kulaklik-seti-siyah-p-hbcv000031wmis',\n",
    "    'yorumlar' : [\n",
    "        'Ürün gayet iyi paketli halde ve çok hızlı geldi. Satıcıya gönderdiği hediyeler içinde teşekkür ederim. Ürün paket içeriği eksiksizdi. Ürünün kullanımı çok kolay ve pratik. Ses seviyesi çok yüksek ki son ses seviyesine dahi ihtiyaç olmuyor. Bas ve tizler gayet iyi cızırtı parazit vs. kesinlikle yok. Kurulumu gayet basit. Mikrofonu da gayet kaliteli zaten iki çeşit mikrofon çıkıyor içinden. Ses karşıya gayet net gidiyor. Alacak herkese tavsiye eder ve satıcıya teşekkür ederim',\n",
    "        'Mükemmel bi cihaz kesinlikle tavsiye ederim, bir kere alın iyisini alın bence. Hediyeler için teşekkür ederim, anahtarlık ve bandana.',\n",
    "        'Ses kalitesi çok iyi kesinlikle tavsiye ederim. Ayrıca hediyeler için çok teşekkür ederim',\n",
    "        'Tek kelimeyle harika yerli malı olması ayrıca 160 km süratte ses ve görüşme fazlasıyla iyi. 180 kmyi geçince azda olsa ses kaybı olabiliyor.',\n",
    "        'Sadece söylenecek tek kelime var. KALİTE. Hediye de harika.',\n",
    "        'Ürünü daha denemedim ama 2 tane söyledim farklı renk yollamışlar ve jiletinleri açık geldi',\n",
    "        'Ürün kaliteli ama ses kalitesi ve mikrofon kalitesi 5 üzerinden 3 , kutu ve taşıma çantasına yatırım yapacağınıza ses sürücüsü üzerinde yatırım ve dip olarak ara ara sürücülerden gelen tiz sesi düzeltseydiniz daha iyi olurdu onun haricinde fiyatı için yeterli daha kaliteli birşey isteyen varsa 10 k yı gözden çıkarmalı',\n",
    "        'Ürün daha önce kullanılmış. Çizikler var ve paket sıfır değil. Kendi malını böyle pazarlayan bu firmaya şimdi ben nasıl güveneceğim?',\n",
    "        'Büyük hevesle 2 adet satın aldık. Kullanım kılavuzunu okumamıza rağmen, videolar seyretmemize rağmen, Kaan Elektronikten videolu yardım istememize rağmen, (Kaan Elektronikin yardım gayretlerine rağmen) intercom bağlantısı gerçekleştiremedik. Tüm hevesimiz kırıldı. Kullanamıyoruz.'\n",
    "    ]\n",
    "}"
   ]
  },
  {
   "cell_type": "code",
   "execution_count": 3,
   "metadata": {},
   "outputs": [],
   "source": [
    "urun1Analiz = []\n",
    "urun2Analiz = []\n",
    "urun3Analiz = []\n",
    "urun4Analiz = []\n",
    "\n",
    "for text in urun1['yorumlar']:\n",
    "    urun1Analiz.append(duyguAnalizi(text))\n",
    "\n",
    "for text in urun2['yorumlar']:\n",
    "    urun2Analiz.append(duyguAnalizi(text))\n",
    "\n",
    "for text in urun3['yorumlar']:\n",
    "    urun3Analiz.append(duyguAnalizi(text))\n",
    "\n",
    "for text in urun4['yorumlar']:\n",
    "    urun4Analiz.append(duyguAnalizi(text))\n",
    "\n",
    "import pandas as pd \n",
    "\n",
    "#load data into a DataFrame object:\n",
    "df1 = pd.DataFrame(urun1Analiz)\n",
    "df2 = pd.DataFrame(urun2Analiz)\n",
    "df3 = pd.DataFrame(urun3Analiz)\n",
    "df4 = pd.DataFrame(urun4Analiz)"
   ]
  },
  {
   "cell_type": "code",
   "execution_count": 8,
   "metadata": {},
   "outputs": [
    {
     "data": {
      "text/html": [
       "<div>\n",
       "<style scoped>\n",
       "    .dataframe tbody tr th:only-of-type {\n",
       "        vertical-align: middle;\n",
       "    }\n",
       "\n",
       "    .dataframe tbody tr th {\n",
       "        vertical-align: top;\n",
       "    }\n",
       "\n",
       "    .dataframe thead th {\n",
       "        text-align: right;\n",
       "    }\n",
       "</style>\n",
       "<table border=\"1\" class=\"dataframe\">\n",
       "  <thead>\n",
       "    <tr style=\"text-align: right;\">\n",
       "      <th></th>\n",
       "      <th>polarity</th>\n",
       "      <th>subjectivity</th>\n",
       "    </tr>\n",
       "  </thead>\n",
       "  <tbody>\n",
       "    <tr>\n",
       "      <th>0</th>\n",
       "      <td>0.150000</td>\n",
       "      <td>0.583333</td>\n",
       "    </tr>\n",
       "    <tr>\n",
       "      <th>1</th>\n",
       "      <td>0.525000</td>\n",
       "      <td>0.754167</td>\n",
       "    </tr>\n",
       "    <tr>\n",
       "      <th>2</th>\n",
       "      <td>0.360000</td>\n",
       "      <td>0.780000</td>\n",
       "    </tr>\n",
       "    <tr>\n",
       "      <th>3</th>\n",
       "      <td>-0.033333</td>\n",
       "      <td>0.848889</td>\n",
       "    </tr>\n",
       "    <tr>\n",
       "      <th>4</th>\n",
       "      <td>0.469333</td>\n",
       "      <td>0.767333</td>\n",
       "    </tr>\n",
       "    <tr>\n",
       "      <th>5</th>\n",
       "      <td>0.073232</td>\n",
       "      <td>0.629293</td>\n",
       "    </tr>\n",
       "    <tr>\n",
       "      <th>6</th>\n",
       "      <td>0.715000</td>\n",
       "      <td>1.000000</td>\n",
       "    </tr>\n",
       "    <tr>\n",
       "      <th>7</th>\n",
       "      <td>0.450000</td>\n",
       "      <td>0.625000</td>\n",
       "    </tr>\n",
       "    <tr>\n",
       "      <th>8</th>\n",
       "      <td>0.000000</td>\n",
       "      <td>0.000000</td>\n",
       "    </tr>\n",
       "    <tr>\n",
       "      <th>9</th>\n",
       "      <td>0.890000</td>\n",
       "      <td>1.000000</td>\n",
       "    </tr>\n",
       "    <tr>\n",
       "      <th>10</th>\n",
       "      <td>0.249000</td>\n",
       "      <td>0.465000</td>\n",
       "    </tr>\n",
       "    <tr>\n",
       "      <th>11</th>\n",
       "      <td>-0.400000</td>\n",
       "      <td>0.600000</td>\n",
       "    </tr>\n",
       "    <tr>\n",
       "      <th>12</th>\n",
       "      <td>0.000000</td>\n",
       "      <td>0.000000</td>\n",
       "    </tr>\n",
       "    <tr>\n",
       "      <th>13</th>\n",
       "      <td>-0.100000</td>\n",
       "      <td>1.000000</td>\n",
       "    </tr>\n",
       "  </tbody>\n",
       "</table>\n",
       "</div>"
      ],
      "text/plain": [
       "    polarity  subjectivity\n",
       "0   0.150000      0.583333\n",
       "1   0.525000      0.754167\n",
       "2   0.360000      0.780000\n",
       "3  -0.033333      0.848889\n",
       "4   0.469333      0.767333\n",
       "5   0.073232      0.629293\n",
       "6   0.715000      1.000000\n",
       "7   0.450000      0.625000\n",
       "8   0.000000      0.000000\n",
       "9   0.890000      1.000000\n",
       "10  0.249000      0.465000\n",
       "11 -0.400000      0.600000\n",
       "12  0.000000      0.000000\n",
       "13 -0.100000      1.000000"
      ]
     },
     "execution_count": 8,
     "metadata": {},
     "output_type": "execute_result"
    }
   ],
   "source": [
    "df1"
   ]
  },
  {
   "cell_type": "code",
   "execution_count": 20,
   "metadata": {},
   "outputs": [
    {
     "name": "stdout",
     "output_type": "stream",
     "text": [
      "Duygu Analizine göre\n",
      "-0.4 -0.625 -0.3499999999999999 0.0\n"
     ]
    }
   ],
   "source": [
    "import numpy as np \n",
    "\n",
    "print('Duygu Analizine göre')\n",
    "print(\n",
    "    np.mean(df1.polarity),\n",
    "    np.mean(df2.polarity),\n",
    "    np.mean(df3.polarity),\n",
    "    np.mean(df4.polarity),\n",
    ")"
   ]
  },
  {
   "cell_type": "code",
   "execution_count": 22,
   "metadata": {},
   "outputs": [
    {
     "name": "stdout",
     "output_type": "stream",
     "text": [
      "Duygu Analizine göre\n",
      "0.89 1.0 0.78 0.8\n"
     ]
    }
   ],
   "source": [
    "import numpy as np \n",
    "\n",
    "print('Duygu Analizine göre')\n",
    "print(\n",
    "    np.mean(df1.polarity),\n",
    "    np.mean(df2.polarity),\n",
    "    np.mean(df3.polarity),\n",
    "    np.mean(df4.polarity),\n",
    ")"
   ]
  },
  {
   "cell_type": "code",
   "execution_count": 18,
   "metadata": {},
   "outputs": [
    {
     "name": "stdout",
     "output_type": "stream",
     "text": [
      "Duygu Analizine göre\n",
      "0.6917297979797981 0.4166666666666667 0.7388888888888889 0.5765442176870749\n"
     ]
    }
   ],
   "source": [
    "import numpy as np \n",
    "\n",
    "print('Duygu Analizine göre')\n",
    "print(\n",
    "    np.median(df1.subjectivity),\n",
    "    np.median(df2.subjectivity),\n",
    "    np.median(df3.subjectivity),\n",
    "    np.median(df4.subjectivity),\n",
    ")"
   ]
  },
  {
   "cell_type": "code",
   "execution_count": 19,
   "metadata": {},
   "outputs": [
    {
     "name": "stdout",
     "output_type": "stream",
     "text": [
      "Duygu Analizine göre\n",
      "0.6466439393939394 0.5033333333333333 0.6732870370370371 0.6062188580819533\n"
     ]
    }
   ],
   "source": [
    "import numpy as np \n",
    "\n",
    "print('Duygu Analizine göre')\n",
    "print(\n",
    "    np.mean(df1.subjectivity),\n",
    "    np.mean(df2.subjectivity),\n",
    "    np.mean(df3.subjectivity),\n",
    "    np.mean(df4.subjectivity),\n",
    ")"
   ]
  }
 ],
 "metadata": {
  "kernelspec": {
   "display_name": ".venv",
   "language": "python",
   "name": "python3"
  },
  "language_info": {
   "codemirror_mode": {
    "name": "ipython",
    "version": 3
   },
   "file_extension": ".py",
   "mimetype": "text/x-python",
   "name": "python",
   "nbconvert_exporter": "python",
   "pygments_lexer": "ipython3",
   "version": "3.12.6"
  }
 },
 "nbformat": 4,
 "nbformat_minor": 2
}
